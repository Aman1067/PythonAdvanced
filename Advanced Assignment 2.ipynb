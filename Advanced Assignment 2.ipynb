{
 "cells": [
  {
   "cell_type": "markdown",
   "id": "98f4a435",
   "metadata": {},
   "source": [
    "1. What is the relationship between classes and modules?"
   ]
  },
  {
   "cell_type": "markdown",
   "id": "0d132297",
   "metadata": {},
   "source": [
    "Classes are blueprints that allow us to create instances with attributes and bound functionality. Classes support inheritance, metaclasses and descriptors.\n",
    "Whereas, Modules in python is simply a way to organize the code and it contains either python classes or just functions. If we need those classes or functions in our project, we just import them."
   ]
  },
  {
   "cell_type": "markdown",
   "id": "fab149eb",
   "metadata": {},
   "source": [
    "2. How do you make instances and classes?"
   ]
  },
  {
   "cell_type": "markdown",
   "id": "ce1b5fa6",
   "metadata": {},
   "source": [
    "To create instances of a class, you call the class using class name and pass in whatever arguments its init method accepts."
   ]
  },
  {
   "cell_type": "code",
   "execution_count": 3,
   "id": "6401c233",
   "metadata": {},
   "outputs": [],
   "source": [
    "\"This would create first object of Employee class\"\n",
    "emp1 = Employee(\"Spiderman\", 6000)\n",
    "\"This would create second object of Employee class\"\n",
    "emp2 = Employee(\"Harry Potter\", 5000)"
   ]
  },
  {
   "cell_type": "markdown",
   "id": "20f35fa1",
   "metadata": {},
   "source": [
    "For creating a class, we use the Class keyword. Class keyword is followed by class name and semicolon."
   ]
  },
  {
   "cell_type": "code",
   "execution_count": 2,
   "id": "feff314b",
   "metadata": {},
   "outputs": [],
   "source": [
    "#Example: \n",
    "#Here Employee is a class created with class keyword with arguments gender and salary.\n",
    "\n",
    "class Employee:\n",
    "    def __init__(self, gender,salary):\n",
    "        self.gender = gender\n",
    "        self.salary = salary"
   ]
  },
  {
   "cell_type": "markdown",
   "id": "684a22f3",
   "metadata": {},
   "source": [
    "3. Where and how should be class attributes created?"
   ]
  },
  {
   "cell_type": "markdown",
   "id": "c99e03cf",
   "metadata": {},
   "source": [
    "Class attributes or Class level Attributes belong to the class itself. These attributes will be shared by all the instances of the class. Hence these attributes are usually created/defined in the top of class definition outside all methods."
   ]
  },
  {
   "cell_type": "code",
   "execution_count": null,
   "id": "dacbaa84",
   "metadata": {},
   "outputs": [],
   "source": [
    "#Example: \n",
    "#In the below code we are defining a class attribute called no_of_wheels which will be shared by all the instances of the class Car\n",
    "\n",
    "class Car:\n",
    "    no_of_wheels = 4; # this is a class attribute\n",
    "    def __init__(self,color,price,engine):\n",
    "        self.color = color # All this are instance attributes\n",
    "        self.price = price\n",
    "        self.engine = engine"
   ]
  },
  {
   "cell_type": "markdown",
   "id": "00cf9691",
   "metadata": {},
   "source": [
    "4. Where and how are instance attributes created?"
   ]
  },
  {
   "cell_type": "markdown",
   "id": "a4c0ce7e",
   "metadata": {},
   "source": [
    "Instance attributes in Python are created and initialized within the special method called __init__, which serves as the constructor for a class. The __init__ method is automatically called when we create an instance of a class, and it is responsible for setting up the initial state of the object by defining and initializing its attributes."
   ]
  },
  {
   "cell_type": "code",
   "execution_count": null,
   "id": "18508d07",
   "metadata": {},
   "outputs": [],
   "source": [
    "class MyClass:\n",
    "    def __init__(self, attribute1, attribute2):\n",
    "        self.attribute1 = attribute1\n",
    "        self.attribute2 = attribute2\n"
   ]
  },
  {
   "cell_type": "markdown",
   "id": "b8c3d0b4",
   "metadata": {},
   "source": [
    "5. What does the term \"self\" in a Python class mean?"
   ]
  },
  {
   "cell_type": "markdown",
   "id": "05d793f0",
   "metadata": {},
   "source": [
    "In Python, the term \"self\" refers to the instance of the class. It is a convention, not a keyword, and you can technically use any name for this parameter, but \"self\" is widely adopted and recommended for clarity and consistency.\n",
    "\n",
    "When you define a method in a class, including the special method __init__ (the constructor), you need to include the self parameter as the first parameter. This parameter is a reference to the instance of the class on which the method is called. It allows you to access and manipulate the instance's attributes and methods within the class."
   ]
  },
  {
   "cell_type": "markdown",
   "id": "e672261f",
   "metadata": {},
   "source": [
    "6. How does a Python class handle operator overloading?"
   ]
  },
  {
   "cell_type": "markdown",
   "id": "344006e0",
   "metadata": {},
   "source": [
    "Python Classes handle operator overloading by using special methods called Magic methods. These special methods usually begin and end with __ (double underscore)\n",
    "Example: Magic methods for basic arithmetic operators are:\n",
    "\n",
    "+ -> __add__()\n",
    "\n",
    "- -> __sub__()\n",
    "\n",
    "* -> __mul__() \n",
    "\n",
    "/ -> __div__()"
   ]
  },
  {
   "cell_type": "code",
   "execution_count": 4,
   "id": "fc8f9fd7",
   "metadata": {},
   "outputs": [
    {
     "name": "stdout",
     "output_type": "stream",
     "text": [
      "The total number of pages in 2 books is 1200\n"
     ]
    }
   ],
   "source": [
    "class Book:\n",
    "    def __init__(self,pages):\n",
    "        self.pages = pages\n",
    "    def __add__(self,other):\n",
    "        return self.pages + other.pages\n",
    "b1 = Book(500)\n",
    "b2 = Book(700)\n",
    "print(f'The total number of pages in 2 books is {b1+b2}')"
   ]
  },
  {
   "cell_type": "markdown",
   "id": "bd01be39",
   "metadata": {},
   "source": [
    "7. When do you consider allowing operator overloading of your classes?"
   ]
  },
  {
   "cell_type": "markdown",
   "id": "acba1e9e",
   "metadata": {},
   "source": [
    "We consider allowing operator overloading when we want to have different meaning for the same operator. For example operator + is used to add two integers as well as join two strings and merge two lists. It is achievable because ‘+’ operator is overloaded by int class and str class."
   ]
  },
  {
   "cell_type": "code",
   "execution_count": 7,
   "id": "d339e46d",
   "metadata": {},
   "outputs": [
    {
     "name": "stdout",
     "output_type": "stream",
     "text": [
      "3\n",
      "SpiderMan\n",
      "54\n",
      "IneuronIneuronIneuronIneuron\n"
     ]
    }
   ],
   "source": [
    "# Python program to show use of\n",
    "# + operator for different purposes.\n",
    " \n",
    "print(1 + 2)\n",
    " \n",
    "# concatenate two strings\n",
    "print(\"Spider\"+\"Man\")\n",
    " \n",
    "# Product two numbers\n",
    "print(6 * 9)\n",
    " \n",
    "# Repeat the String\n",
    "print(\"Ineuron\"*4)"
   ]
  },
  {
   "cell_type": "markdown",
   "id": "db42f4a3",
   "metadata": {},
   "source": [
    "8. What is the most popular form of operator overloading?"
   ]
  },
  {
   "cell_type": "markdown",
   "id": "c2f015e4",
   "metadata": {},
   "source": [
    "The most popular form of operator overloading in python is by special methods called Magic methods. It usually begins and ends with double underscore."
   ]
  },
  {
   "cell_type": "code",
   "execution_count": 8,
   "id": "dfd342b3",
   "metadata": {},
   "outputs": [
    {
     "name": "stdout",
     "output_type": "stream",
     "text": [
      "Sum -> 3\n",
      "String Concatenation -> SpiderMan\n"
     ]
    }
   ],
   "source": [
    "class A:\n",
    "    def __init__(self,a):\n",
    "        self.a = a\n",
    "    def __add__(self,o):\n",
    "        return self.a+o.a\n",
    "obj1 = A(1)\n",
    "obj2 = A(2)\n",
    "obj3 = A('Spider')\n",
    "obj4 = A('Man')\n",
    "print(f'Sum -> {obj1+obj2}')\n",
    "print(f'String Concatenation -> {obj3+obj4}')"
   ]
  },
  {
   "cell_type": "markdown",
   "id": "96afb7ac",
   "metadata": {},
   "source": [
    "9. What are the two most important concepts to grasp in order to comprehend Python OOP code?"
   ]
  },
  {
   "cell_type": "markdown",
   "id": "ebd618b7",
   "metadata": {},
   "source": [
    "Classes and objects are the two most important concepts to grasp in order to comprehend python OOP code as more formally objects are entities that represent instances of general abstract concept called class.\n",
    "\n",
    "Along with classes and objects the important concepts to grasp are:\n",
    "\n",
    "1.Inheritence\n",
    "\n",
    "2.Abstraction\n",
    "\n",
    "3.Polymorphism\n",
    "\n",
    "4.Encapsulation"
   ]
  }
 ],
 "metadata": {
  "kernelspec": {
   "display_name": "Python 3 (ipykernel)",
   "language": "python",
   "name": "python3"
  },
  "language_info": {
   "codemirror_mode": {
    "name": "ipython",
    "version": 3
   },
   "file_extension": ".py",
   "mimetype": "text/x-python",
   "name": "python",
   "nbconvert_exporter": "python",
   "pygments_lexer": "ipython3",
   "version": "3.9.7"
  }
 },
 "nbformat": 4,
 "nbformat_minor": 5
}
