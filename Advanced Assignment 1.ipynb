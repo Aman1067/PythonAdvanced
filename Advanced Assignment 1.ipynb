{
 "cells": [
  {
   "cell_type": "markdown",
   "id": "98f4a435",
   "metadata": {},
   "source": [
    "1. What is the purpose of Python's OOP?"
   ]
  },
  {
   "cell_type": "markdown",
   "id": "14f5e4f1",
   "metadata": {},
   "source": [
    "\n",
    "The purpose of Python's Object-Oriented Programming (OOP) is to provide a way to structure and organize code in a modular and reusable manner. OOP is a programming paradigm that uses the concept of \"objects,\" which are instances of classes, to model and represent real-world entities and their interactions."
   ]
  },
  {
   "cell_type": "markdown",
   "id": "fab149eb",
   "metadata": {},
   "source": [
    "2. Where does an inheritance search look for an attribute?"
   ]
  },
  {
   "cell_type": "markdown",
   "id": "9f446f15",
   "metadata": {},
   "source": [
    "When we access an attribute on an object, the interpreter performs an inheritance search to find that attribute. The search follows a specific order known as the \"Method Resolution Order\" (MRO). The MRO defines the sequence in which the base classes are searched when looking for an attribute in a class hierarchy."
   ]
  },
  {
   "cell_type": "markdown",
   "id": "684a22f3",
   "metadata": {},
   "source": [
    "3. How do you distinguish between a class object and an instance object?"
   ]
  },
  {
   "cell_type": "markdown",
   "id": "ae6e22b2",
   "metadata": {},
   "source": [
    "The differences between a class object and an instance object are:\n",
    "\n",
    "Class is a template for creating objects whereas object is an instance of class\n",
    "\n",
    "Seperate memory is allocated for each object whenever an object is created. but for a class this doesnot happens.\n",
    "\n",
    "A Class is created once. Many objects are created using a class.\n",
    "\n",
    "As Classes have no allocated memory. they can't be manipulated. but objects can be manipulated."
   ]
  },
  {
   "cell_type": "markdown",
   "id": "00cf9691",
   "metadata": {},
   "source": [
    "4. What makes the first argument in a class’s method function special?"
   ]
  },
  {
   "cell_type": "markdown",
   "id": "71ed3576",
   "metadata": {},
   "source": [
    "Python Classes usually have three types of methods which are:\n",
    "\n",
    "Instance Methods (object level methods)\n",
    "\n",
    "Class Methods (class level methods)\n",
    "\n",
    "Static Methods (general utility methods)\n",
    "\n",
    "self is the first argument for instance methods. which refers to the object itself\n",
    "\n",
    "class is the first argument for class methods which refers to the class itself"
   ]
  },
  {
   "cell_type": "markdown",
   "id": "b8c3d0b4",
   "metadata": {},
   "source": [
    "5. What is the purpose of the init method?"
   ]
  },
  {
   "cell_type": "markdown",
   "id": "e378eaa9",
   "metadata": {},
   "source": [
    "init is a reseved method in python classes. It serves the role of a constructor in object oriented terminology. This method is called when an object is created from a class and it allows the class to initialize the attributes of the class."
   ]
  },
  {
   "cell_type": "markdown",
   "id": "d548898a",
   "metadata": {},
   "source": [
    "6. What is the process for creating a class instance?"
   ]
  },
  {
   "cell_type": "markdown",
   "id": "e3b8ec7d",
   "metadata": {},
   "source": [
    "To create a class instance, we need to call the class by its name and pass the arguments to the class, which its init method accepts.\n",
    "Example: my_car = car(\"BMW\",\"i8\") Here my_car is an instance of class car with attributes \"BMW\" and \"i8\"."
   ]
  },
  {
   "cell_type": "markdown",
   "id": "4e4b50f3",
   "metadata": {},
   "source": [
    "7. What is the process for creating a class?"
   ]
  },
  {
   "cell_type": "markdown",
   "id": "2ddacc24",
   "metadata": {},
   "source": [
    "class keyword is used to create a class in python. The syntax to create a class in python is class :\n",
    "\n",
    "Example: class Car: ➞ this creates a class called Car"
   ]
  },
  {
   "cell_type": "markdown",
   "id": "8069799a",
   "metadata": {},
   "source": [
    "8. How would you define the superclasses of a class?"
   ]
  },
  {
   "cell_type": "markdown",
   "id": "1aab986f",
   "metadata": {},
   "source": [
    "Superclass/Parent class is given as a arugment to the child class\n",
    "\n",
    "Example: class Employee(Person): Here child class Employee inherits attributes and methods/functions from Superclass/Parent Person"
   ]
  }
 ],
 "metadata": {
  "kernelspec": {
   "display_name": "Python 3 (ipykernel)",
   "language": "python",
   "name": "python3"
  },
  "language_info": {
   "codemirror_mode": {
    "name": "ipython",
    "version": 3
   },
   "file_extension": ".py",
   "mimetype": "text/x-python",
   "name": "python",
   "nbconvert_exporter": "python",
   "pygments_lexer": "ipython3",
   "version": "3.9.7"
  }
 },
 "nbformat": 4,
 "nbformat_minor": 5
}
