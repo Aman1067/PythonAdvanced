{
 "cells": [
  {
   "cell_type": "markdown",
   "id": "98f4a435",
   "metadata": {},
   "source": [
    "1. Which two operator overloading methods can you use in your classes to support iteration?"
   ]
  },
  {
   "cell_type": "markdown",
   "id": "0d132297",
   "metadata": {},
   "source": [
    "__iter__ and __next__ are the operator overloading methods in python that support iteration and are collectively called iterator protocol.\n",
    "\n",
    "__iter__ returns the iterator object and is called at the start of loop in our respective class.\n",
    "\n",
    "__next__ is called at each loop increment, it returns the incremented value. Also Stopiteration is raised when there is no value to return."
   ]
  },
  {
   "cell_type": "markdown",
   "id": "fab149eb",
   "metadata": {},
   "source": [
    "2. In what contexts do the two operator overloading methods manage printing?"
   ]
  },
  {
   "cell_type": "markdown",
   "id": "ce1b5fa6",
   "metadata": {},
   "source": [
    "str and repr are two operator overloading methods that manage printing.\n",
    "\n",
    "The difference between both of these operators is: The goal of repr is to be unambiguous and str is to be readable.\n",
    "\n",
    "Whenever we are printing any object reference internally, str method will be called by default.\n",
    "\n",
    "The main purpose of str is for readability. It prints the informal string representation of an object, one that is useful for printing the object. It may not be possible to convert result string to original object.\n",
    "\n",
    "repr is used to print official string representation of an object, so it includes all information and development."
   ]
  },
  {
   "cell_type": "markdown",
   "id": "e3ec28de",
   "metadata": {},
   "source": [
    "3. In a class, how do you intercept slice operations?"
   ]
  },
  {
   "cell_type": "markdown",
   "id": "20f35fa1",
   "metadata": {},
   "source": [
    "In a class use of slice(), __ getitem __ method is used for intercept slice operation. This slice method is provided with start integer number, stop integer number and step integer number.\n",
    "\n",
    "Example: __ getitem __ (slice(start,stop,step))"
   ]
  },
  {
   "cell_type": "markdown",
   "id": "684a22f3",
   "metadata": {},
   "source": [
    "4. In a class, how do you capture in-place addition?"
   ]
  },
  {
   "cell_type": "markdown",
   "id": "c99e03cf",
   "metadata": {},
   "source": [
    "We can capture in-place addition (or any in-place operation) in a class by implementing the __iadd__ method. The __iadd__ method is a special method that is called when the += operator is used on an object of a class.\n",
    "\n",
    "It's important to note that the __iadd__ method should modify the object in-place and return self. This allows chaining of in-place addition operations.\n",
    "\n",
    "If __iadd__ is not defined in the class, the regular addition (__add__) method is called, and a new object is created instead of modifying the existing one in-place."
   ]
  },
  {
   "cell_type": "markdown",
   "id": "00cf9691",
   "metadata": {},
   "source": [
    "5. When is it appropriate to use operator overloading?"
   ]
  },
  {
   "cell_type": "markdown",
   "id": "a4c0ce7e",
   "metadata": {},
   "source": [
    "Operator overloading is used when we want to use an operator other than its normal operation to have different meaning according to the context required in user defined function."
   ]
  },
  {
   "cell_type": "code",
   "execution_count": 4,
   "id": "4b569ed6",
   "metadata": {},
   "outputs": [
    {
     "name": "stdout",
     "output_type": "stream",
     "text": [
      "Total Number of Pages -> 1600\n"
     ]
    }
   ],
   "source": [
    "class Book:\n",
    "    def __init__(self,pages):\n",
    "        self.pages = pages\n",
    "    def __add__(self,other):\n",
    "        return self.pages+other.pages\n",
    "b1 = Book(700)\n",
    "b2 = Book(900)\n",
    "print(f'Total Number of Pages -> {b1+b2}')"
   ]
  }
 ],
 "metadata": {
  "kernelspec": {
   "display_name": "Python 3 (ipykernel)",
   "language": "python",
   "name": "python3"
  },
  "language_info": {
   "codemirror_mode": {
    "name": "ipython",
    "version": 3
   },
   "file_extension": ".py",
   "mimetype": "text/x-python",
   "name": "python",
   "nbconvert_exporter": "python",
   "pygments_lexer": "ipython3",
   "version": "3.9.7"
  }
 },
 "nbformat": 4,
 "nbformat_minor": 5
}
